{
 "cells": [
  {
   "cell_type": "markdown",
   "metadata": {
    "id": "LkfoFeGlYxHY"
   },
   "source": [
    "## `DeepLabv3+`"
   ]
  },
  {
   "cell_type": "code",
   "execution_count": 1,
   "metadata": {
    "id": "-73t7omkQ-y7"
   },
   "outputs": [
    {
     "name": "stderr",
     "output_type": "stream",
     "text": [
      "/home/adriano/Documents/tutoriais/DeepLabv3-for-self-driving-cars/env/lib/python3.8/site-packages/tqdm/auto.py:21: TqdmWarning: IProgress not found. Please update jupyter and ipywidgets. See https://ipywidgets.readthedocs.io/en/stable/user_install.html\n",
      "  from .autonotebook import tqdm as notebook_tqdm\n"
     ]
    }
   ],
   "source": [
    "import torch\n",
    "import matplotlib.pyplot as plt\n",
    "from torchvision import transforms\n",
    "from tqdm import tqdm\n",
    "import numpy as np\n",
    "\n",
    "import segmentation_models_pytorch as smp\n",
    "\n",
    "# Dataset\n",
    "from src.core.config import DatasetConfig\n",
    "from src.utils.helpers import split_dataset\n",
    "import albumentations as A\n",
    "import albumentations.augmentations.functional as F\n",
    "from albumentations.pytorch import ToTensorV2\n",
    "from src.dataset.kitti import KittiSegDataset\n",
    "\n",
    "# Model\n",
    "\n",
    "import torch.optim as optim\n",
    "from torch.optim.lr_scheduler import OneCycleLR\n",
    "from src.models.deeplabplus import DeepLabV3Plus\n",
    "from src.core.config import HyperParameters\n",
    "from src.utils.helpers import get_color_maps\n",
    "from src.core.metrics import meanIoU\n",
    "\n",
    "\n",
    "import logging\n",
    "logging.basicConfig(format='%(levelname)s:%(message)s', level=logging.INFO)\n",
    "logger = logging.getLogger(__name__)\n",
    "\n",
    "import gc\n",
    "\n",
    "\n",
    "device = \"cuda\" if torch.cuda.is_available() else \"cpu\"\n",
    "\n",
    "hyper_parameters = HyperParameters()\n",
    "id_to_color = get_color_maps()\n",
    "\n",
    "# find optimal backend for performing convolutions \n",
    "torch.backends.cudnn.benchmark = True"
   ]
  },
  {
   "cell_type": "markdown",
   "metadata": {
    "id": "1G6V9TIjsZB7"
   },
   "source": [
    "#### 1. Dataset"
   ]
  },
  {
   "cell_type": "code",
   "execution_count": 2,
   "metadata": {},
   "outputs": [],
   "source": [
    "train_files_list, val_files_list = split_dataset(train_size=0.8)\n",
    "\n",
    "config = DatasetConfig()\n",
    "#https://albumentations.ai/docs/examples/pytorch_semantic_segmentation/\n",
    "# transforms\n",
    "train_transform = A.Compose(\n",
    "    [\n",
    "        A.Resize(config.image_size, config.image_size),\n",
    "        A.ShiftScaleRotate(shift_limit=0.2, scale_limit=0.2, rotate_limit=30, p=0.5),\n",
    "        A.RGBShift(r_shift_limit=25, g_shift_limit=25, b_shift_limit=25, p=0.5),\n",
    "        A.RandomBrightnessContrast(brightness_limit=0.3, contrast_limit=0.3, p=0.5),\n",
    "        A.Normalize(mean=(0.485, 0.456, 0.406), std=(0.229, 0.224, 0.225)),\n",
    "        ToTensorV2(),\n",
    "    ]\n",
    ")\n",
    "\n",
    "val_and_test_transform = A.Compose(\n",
    "    [A.Resize(config.image_size, config.image_size), A.Normalize(mean=(0.485, 0.456, 0.406), std=(0.229, 0.224, 0.225)), ToTensorV2()]\n",
    ")\n",
    "\n",
    "num_worker = 4 * int(torch.cuda.device_count())\n",
    "\n",
    "# datasets\n",
    "train_dataset = KittiSegDataset(train_files_list, transform=train_transform)\n",
    "val_dataset = KittiSegDataset(val_files_list, transform=val_and_test_transform)\n",
    "\n",
    "train_dataloader = torch.utils.data.DataLoader(train_dataset, shuffle=True, batch_size=hyper_parameters.batch_size,drop_last=True, num_workers=num_worker, pin_memory=True)\n",
    "val_dataloader = torch.utils.data.DataLoader(val_dataset,batch_size=hyper_parameters.batch_size, num_workers=num_worker, pin_memory=True)\n",
    "    "
   ]
  },
  {
   "cell_type": "markdown",
   "metadata": {
    "id": "HeI63CaFc8s6"
   },
   "source": [
    "#### 2. Model"
   ]
  },
  {
   "cell_type": "code",
   "execution_count": 3,
   "metadata": {
    "id": "qzNDE2HmA--r"
   },
   "outputs": [
    {
     "name": "stderr",
     "output_type": "stream",
     "text": [
      "/home/adriano/Documents/tutoriais/DeepLabv3-for-self-driving-cars/env/lib/python3.8/site-packages/torchvision/models/_utils.py:208: UserWarning: The parameter 'pretrained' is deprecated since 0.13 and may be removed in the future, please use 'weights' instead.\n",
      "  warnings.warn(\n",
      "/home/adriano/Documents/tutoriais/DeepLabv3-for-self-driving-cars/env/lib/python3.8/site-packages/torchvision/models/_utils.py:223: UserWarning: Arguments other than a weight enum or `None` for 'weights' are deprecated since 0.13 and may be removed in the future. The current behavior is equivalent to passing `weights=ResNet50_Weights.IMAGENET1K_V1`. You can also use `weights=ResNet50_Weights.DEFAULT` to get the most up-to-date weights.\n",
      "  warnings.warn(msg)\n"
     ]
    }
   ],
   "source": [
    "# create model, optimizer, lr_scheduler and pass to training function\n",
    "model = DeepLabV3Plus(in_channels=3, output_stride=8, num_classes=hyper_parameters.n_classes).to(device)\n",
    "\n",
    "optimizer = optim.Adam(model.parameters(), lr=hyper_parameters.max_lr)\n",
    "criterion = smp.losses.DiceLoss('multiclass', classes=[0,1], log_loss = True, smooth=1.0)\n",
    "scheduler = OneCycleLR(optimizer, max_lr= hyper_parameters.max_lr, epochs = hyper_parameters.n_epochs, steps_per_epoch = 2*(len(train_dataloader)), \n",
    "                        pct_start=0.3, div_factor=10, anneal_strategy='cos')"
   ]
  },
  {
   "cell_type": "markdown",
   "metadata": {},
   "source": [
    "#### 3.0 Train and validate model"
   ]
  },
  {
   "cell_type": "code",
   "execution_count": 4,
   "metadata": {
    "id": "UI13LLG_Mf6A"
   },
   "outputs": [],
   "source": [
    "min_val_loss = np.Inf\n",
    "\n",
    "def training(model, train_dataloader, criterion, scheduler):\n",
    "    \n",
    "    torch.cuda.empty_cache()\n",
    "    \n",
    "    # Training\n",
    "    model.train()\n",
    "    \n",
    "    train_loss = 0.0\n",
    "\n",
    "    for inputs, labels in tqdm(train_dataloader, total=len(train_dataloader)):\n",
    "        inputs = inputs.to(device)\n",
    "        labels = labels.to(device)\n",
    "\n",
    "        # Forward pass\n",
    "        y_preds = model(inputs)\n",
    "\n",
    "        loss = criterion(y_preds, labels)\n",
    "        train_loss += loss.item()\n",
    "            \n",
    "        # Backward pass\n",
    "        loss.backward()\n",
    "        optimizer.step()\n",
    "        optimizer.zero_grad()\n",
    "\n",
    "        # adjust learning rate\n",
    "        if scheduler is not None:\n",
    "            scheduler.step()\n",
    "        \n",
    "    # compute per batch losses, metric value\n",
    "    train_loss = train_loss / len(train_dataloader)\n",
    "\n",
    "    return train_loss\n",
    "\n",
    "def evaluating(model, dataloader, criterion, metric_class, num_classes, device):\n",
    "    torch.cuda.empty_cache()\n",
    "\n",
    "    model.eval()\n",
    "    total_loss = 0.0\n",
    "    metric_object = metric_class(num_classes)\n",
    "\n",
    "    with torch.no_grad():\n",
    "        for inputs, labels in tqdm(dataloader, total=len(dataloader)):\n",
    "            inputs = inputs.to(device)\n",
    "            labels = labels.to(device)                \n",
    "            y_preds = model(inputs)\n",
    "\n",
    "            # calculate loss\n",
    "            loss = criterion(y_preds, labels)\n",
    "            total_loss += loss.item()\n",
    "\n",
    "            # update batch metric information            \n",
    "            metric_object.update(y_preds.cpu().detach(), labels.cpu().detach())\n",
    "\n",
    "    evaluation_loss = total_loss / len(dataloader)\n",
    "    evaluation_metric = metric_object.compute()\n",
    "    return evaluation_loss, evaluation_metric"
   ]
  },
  {
   "cell_type": "markdown",
   "metadata": {},
   "source": [
    "### Testing"
   ]
  },
  {
   "cell_type": "code",
   "execution_count": 5,
   "metadata": {},
   "outputs": [],
   "source": [
    "def testing(model, test_dataset):\n",
    "    model.eval()\n",
    "    with torch.no_grad():\n",
    "        # predictions on random samples\n",
    "        testSamples = np.random.choice(len(test_dataset), 1).tolist()\n",
    "\n",
    "        _, axes = plt.subplots(1,3, figsize=(20,10))\n",
    "\n",
    "        for i, sampleID in enumerate(testSamples):\n",
    "            inputImage, gt = test_dataset[sampleID]\n",
    "\n",
    "            # input rgb image   \n",
    "            inputImage = inputImage.to(device)\n",
    "            landscape = inputImage.permute(1, 2, 0).cpu().detach().numpy()\n",
    "\n",
    "            image_base = landscape.copy() \n",
    "\n",
    "            axes[0].imshow(landscape)\n",
    "            axes[0].set_title(\"RGB Image\")\n",
    "            axes[0].axis('off')\n",
    "\n",
    "            axes[1].imshow(gt.cpu().detach().numpy())\n",
    "            axes[1].set_title(\"Groundtruth\")\n",
    "            axes[1].axis('off')\n",
    "\n",
    "            y_pred = torch.argmax(model(inputImage.unsqueeze(0)), dim=1).squeeze(0)\n",
    "            label_class_predicted = y_pred.cpu().detach().numpy()\n",
    "            # Use a função 'np.where' para substituir valores maiores que 3 por 0\n",
    "            label_class_predicted = np.where(label_class_predicted > 1, 0, label_class_predicted)\n",
    "\n",
    "            axes[2].imshow(id_to_color[label_class_predicted])\n",
    "            axes[2].set_title(\"Predicted\")\n",
    "            axes[2].axis('off')\n",
    "\n",
    "\n",
    "            plt.show()\n",
    "\n",
    "            return image_base, label_class_predicted"
   ]
  },
  {
   "cell_type": "code",
   "execution_count": 6,
   "metadata": {},
   "outputs": [
    {
     "name": "stdout",
     "output_type": "stream",
     "text": [
      "Starting 1 epoch ...\n"
     ]
    },
    {
     "name": "stderr",
     "output_type": "stream",
     "text": [
      "  5%|▍         | 33/686 [00:24<04:08,  2.63it/s] "
     ]
    }
   ],
   "source": [
    "# Training\n",
    "try:\n",
    "    results = []\n",
    "    for epoch in range(hyper_parameters.n_epochs):\n",
    "        print(f\"Starting {epoch + 1} epoch ...\")\n",
    "        train_loss = training(model, train_dataloader, criterion, scheduler)\n",
    "        validation_loss, validation_metric = evaluating(model, val_dataloader, criterion, meanIoU, hyper_parameters.n_classes, device)\n",
    "\n",
    "        print(f'Epoch: {epoch+1}, trainLoss:{train_loss:6.5f}, validationLoss:{validation_loss:6.5f}, validationMetric:{validation_metric:6.5f}')\n",
    "       \n",
    "        if validation_loss <= min_val_loss:\n",
    "            print(\"New best model\")\n",
    "            min_val_loss = validation_loss\n",
    "            best_validation_metric = validation_metric\n",
    "            torch.save(model.state_dict(), hyper_parameters.weights_path)\n",
    "\n",
    "        torch.cuda.empty_cache()\n",
    "except Exception as ex:\n",
    "    print(ex)\n",
    "\n",
    "del model\n",
    "torch.cuda.empty_cache()\n",
    "gc.collect()\n"
   ]
  },
  {
   "cell_type": "code",
   "execution_count": null,
   "metadata": {},
   "outputs": [],
   "source": [
    "\n",
    "# Load model\n",
    "model_test = DeepLabV3Plus(in_channels=3, output_stride=8, num_classes=hyper_parameters.n_classes).to(device)\n",
    "model_test.load_state_dict(torch.load(hyper_parameters.weights_path))\n",
    "\n",
    "image_base, label_class_predicted = testing(model_test, val_dataset)\n",
    "\n",
    "del model_test\n",
    "torch.cuda.empty_cache()\n",
    "gc.collect()"
   ]
  }
 ],
 "metadata": {
  "accelerator": "GPU",
  "colab": {
   "machine_shape": "hm",
   "name": "UNet-Starter.ipynb",
   "private_outputs": true,
   "provenance": []
  },
  "gpuClass": "premium",
  "kernelspec": {
   "display_name": "Python 3 (ipykernel)",
   "language": "python",
   "name": "python3"
  },
  "language_info": {
   "codemirror_mode": {
    "name": "ipython",
    "version": 3
   },
   "file_extension": ".py",
   "mimetype": "text/x-python",
   "name": "python",
   "nbconvert_exporter": "python",
   "pygments_lexer": "ipython3",
   "version": "3.8.8"
  }
 },
 "nbformat": 4,
 "nbformat_minor": 4
}
